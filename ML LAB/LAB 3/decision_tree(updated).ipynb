{
 "cells": [
  {
   "cell_type": "code",
   "execution_count": 262,
   "metadata": {},
   "outputs": [],
   "source": [
    "import numpy as np\n",
    "import pandas as pd\n",
    "import math"
   ]
  },
  {
   "cell_type": "code",
   "execution_count": 263,
   "metadata": {
    "scrolled": true
   },
   "outputs": [
    {
     "data": {
      "text/html": [
       "<div>\n",
       "<style scoped>\n",
       "    .dataframe tbody tr th:only-of-type {\n",
       "        vertical-align: middle;\n",
       "    }\n",
       "\n",
       "    .dataframe tbody tr th {\n",
       "        vertical-align: top;\n",
       "    }\n",
       "\n",
       "    .dataframe thead th {\n",
       "        text-align: right;\n",
       "    }\n",
       "</style>\n",
       "<table border=\"1\" class=\"dataframe\">\n",
       "  <thead>\n",
       "    <tr style=\"text-align: right;\">\n",
       "      <th></th>\n",
       "      <th>Outlook</th>\n",
       "      <th>Temperature</th>\n",
       "      <th>Humidity</th>\n",
       "      <th>Wind</th>\n",
       "      <th>Answer</th>\n",
       "    </tr>\n",
       "  </thead>\n",
       "  <tbody>\n",
       "    <tr>\n",
       "      <th>0</th>\n",
       "      <td>sunny</td>\n",
       "      <td>hot</td>\n",
       "      <td>high</td>\n",
       "      <td>weak</td>\n",
       "      <td>no</td>\n",
       "    </tr>\n",
       "    <tr>\n",
       "      <th>1</th>\n",
       "      <td>sunny</td>\n",
       "      <td>hot</td>\n",
       "      <td>high</td>\n",
       "      <td>strong</td>\n",
       "      <td>no</td>\n",
       "    </tr>\n",
       "    <tr>\n",
       "      <th>2</th>\n",
       "      <td>overcast</td>\n",
       "      <td>hot</td>\n",
       "      <td>high</td>\n",
       "      <td>weak</td>\n",
       "      <td>yes</td>\n",
       "    </tr>\n",
       "    <tr>\n",
       "      <th>3</th>\n",
       "      <td>rain</td>\n",
       "      <td>mild</td>\n",
       "      <td>high</td>\n",
       "      <td>weak</td>\n",
       "      <td>yes</td>\n",
       "    </tr>\n",
       "    <tr>\n",
       "      <th>4</th>\n",
       "      <td>rain</td>\n",
       "      <td>cool</td>\n",
       "      <td>normal</td>\n",
       "      <td>weak</td>\n",
       "      <td>yes</td>\n",
       "    </tr>\n",
       "    <tr>\n",
       "      <th>5</th>\n",
       "      <td>rain</td>\n",
       "      <td>cool</td>\n",
       "      <td>normal</td>\n",
       "      <td>strong</td>\n",
       "      <td>no</td>\n",
       "    </tr>\n",
       "    <tr>\n",
       "      <th>6</th>\n",
       "      <td>overcast</td>\n",
       "      <td>cool</td>\n",
       "      <td>normal</td>\n",
       "      <td>strong</td>\n",
       "      <td>yes</td>\n",
       "    </tr>\n",
       "    <tr>\n",
       "      <th>7</th>\n",
       "      <td>sunny</td>\n",
       "      <td>mild</td>\n",
       "      <td>high</td>\n",
       "      <td>weak</td>\n",
       "      <td>no</td>\n",
       "    </tr>\n",
       "    <tr>\n",
       "      <th>8</th>\n",
       "      <td>sunny</td>\n",
       "      <td>cool</td>\n",
       "      <td>normal</td>\n",
       "      <td>weak</td>\n",
       "      <td>yes</td>\n",
       "    </tr>\n",
       "    <tr>\n",
       "      <th>9</th>\n",
       "      <td>rain</td>\n",
       "      <td>mild</td>\n",
       "      <td>normal</td>\n",
       "      <td>weak</td>\n",
       "      <td>yes</td>\n",
       "    </tr>\n",
       "    <tr>\n",
       "      <th>10</th>\n",
       "      <td>sunny</td>\n",
       "      <td>mild</td>\n",
       "      <td>normal</td>\n",
       "      <td>strong</td>\n",
       "      <td>yes</td>\n",
       "    </tr>\n",
       "    <tr>\n",
       "      <th>11</th>\n",
       "      <td>overcast</td>\n",
       "      <td>mild</td>\n",
       "      <td>high</td>\n",
       "      <td>strong</td>\n",
       "      <td>yes</td>\n",
       "    </tr>\n",
       "    <tr>\n",
       "      <th>12</th>\n",
       "      <td>overcast</td>\n",
       "      <td>hot</td>\n",
       "      <td>normal</td>\n",
       "      <td>weak</td>\n",
       "      <td>yes</td>\n",
       "    </tr>\n",
       "    <tr>\n",
       "      <th>13</th>\n",
       "      <td>rain</td>\n",
       "      <td>mild</td>\n",
       "      <td>high</td>\n",
       "      <td>strong</td>\n",
       "      <td>no</td>\n",
       "    </tr>\n",
       "  </tbody>\n",
       "</table>\n",
       "</div>"
      ],
      "text/plain": [
       "     Outlook Temperature Humidity    Wind Answer\n",
       "0      sunny         hot     high    weak     no\n",
       "1      sunny         hot     high  strong     no\n",
       "2   overcast         hot     high    weak    yes\n",
       "3       rain        mild     high    weak    yes\n",
       "4       rain        cool   normal    weak    yes\n",
       "5       rain        cool   normal  strong     no\n",
       "6   overcast        cool   normal  strong    yes\n",
       "7      sunny        mild     high    weak     no\n",
       "8      sunny        cool   normal    weak    yes\n",
       "9       rain        mild   normal    weak    yes\n",
       "10     sunny        mild   normal  strong    yes\n",
       "11  overcast        mild     high  strong    yes\n",
       "12  overcast         hot   normal    weak    yes\n",
       "13      rain        mild     high  strong     no"
      ]
     },
     "execution_count": 263,
     "metadata": {},
     "output_type": "execute_result"
    }
   ],
   "source": [
    "data = pd.read_csv(\"id3.csv\")\n",
    "data"
   ]
  },
  {
   "cell_type": "code",
   "execution_count": 264,
   "metadata": {},
   "outputs": [
    {
     "data": {
      "text/html": [
       "<div>\n",
       "<style scoped>\n",
       "    .dataframe tbody tr th:only-of-type {\n",
       "        vertical-align: middle;\n",
       "    }\n",
       "\n",
       "    .dataframe tbody tr th {\n",
       "        vertical-align: top;\n",
       "    }\n",
       "\n",
       "    .dataframe thead th {\n",
       "        text-align: right;\n",
       "    }\n",
       "</style>\n",
       "<table border=\"1\" class=\"dataframe\">\n",
       "  <thead>\n",
       "    <tr style=\"text-align: right;\">\n",
       "      <th></th>\n",
       "      <th>Outlook</th>\n",
       "      <th>Temperature</th>\n",
       "      <th>Humidity</th>\n",
       "      <th>Wind</th>\n",
       "    </tr>\n",
       "  </thead>\n",
       "  <tbody>\n",
       "    <tr>\n",
       "      <th>0</th>\n",
       "      <td>sunny</td>\n",
       "      <td>hot</td>\n",
       "      <td>high</td>\n",
       "      <td>weak</td>\n",
       "    </tr>\n",
       "    <tr>\n",
       "      <th>1</th>\n",
       "      <td>sunny</td>\n",
       "      <td>hot</td>\n",
       "      <td>high</td>\n",
       "      <td>strong</td>\n",
       "    </tr>\n",
       "    <tr>\n",
       "      <th>2</th>\n",
       "      <td>overcast</td>\n",
       "      <td>hot</td>\n",
       "      <td>high</td>\n",
       "      <td>weak</td>\n",
       "    </tr>\n",
       "  </tbody>\n",
       "</table>\n",
       "</div>"
      ],
      "text/plain": [
       "    Outlook Temperature Humidity    Wind\n",
       "0     sunny         hot     high    weak\n",
       "1     sunny         hot     high  strong\n",
       "2  overcast         hot     high    weak"
      ]
     },
     "execution_count": 264,
     "metadata": {},
     "output_type": "execute_result"
    }
   ],
   "source": [
    "input = data.drop('Answer',axis=1)\n",
    "input.head(3)"
   ]
  },
  {
   "cell_type": "code",
   "execution_count": 265,
   "metadata": {},
   "outputs": [
    {
     "data": {
      "text/plain": [
       "0     no\n",
       "1     no\n",
       "2    yes\n",
       "Name: Answer, dtype: object"
      ]
     },
     "execution_count": 265,
     "metadata": {},
     "output_type": "execute_result"
    }
   ],
   "source": [
    "target = data['Answer']\n",
    "target.head(3)"
   ]
  },
  {
   "cell_type": "code",
   "execution_count": 266,
   "metadata": {},
   "outputs": [
    {
     "name": "stdout",
     "output_type": "stream",
     "text": [
      "['Outlook', 'Temperature', 'Humidity', 'Wind']\n"
     ]
    }
   ],
   "source": [
    "def attr_list(df):\n",
    "    attributes = df.columns.tolist()[:-1]\n",
    "    return attributes\n",
    "print(attr_list(data))"
   ]
  },
  {
   "cell_type": "code",
   "execution_count": 267,
   "metadata": {},
   "outputs": [
    {
     "name": "stdout",
     "output_type": "stream",
     "text": [
      "{'Outlook': array(['sunny', 'overcast', 'rain'], dtype=object), 'Temperature': array(['hot', 'mild', 'cool'], dtype=object), 'Humidity': array(['high', 'normal'], dtype=object), 'Wind': array(['weak', 'strong'], dtype=object)}\n"
     ]
    }
   ],
   "source": [
    "def attr_values(attributes,data):\n",
    "    values = {}\n",
    "    for i in attributes:\n",
    "        values[i] = data[i].unique()\n",
    "    return values\n",
    "print(attr_values(attr_list(data),data))"
   ]
  },
  {
   "cell_type": "code",
   "execution_count": 268,
   "metadata": {},
   "outputs": [],
   "source": [
    "def entropy(data_n):\n",
    "    p=len(data_n.where(data_n['Answer']=='yes').dropna())\n",
    "    n=len(data_n.where(data_n['Answer']=='no').dropna())\n",
    "    if(n==p):\n",
    "        return 1\n",
    "    if(n==0 or p==0):\n",
    "        return 0\n",
    "    e=(((-1)*p*math.log(p/(p+n),2)/(p+n)) + ((-1)*n*math.log(n/(p+n),2)/(p+n)))\n",
    "    return float(e)"
   ]
  },
  {
   "cell_type": "code",
   "execution_count": 269,
   "metadata": {},
   "outputs": [],
   "source": [
    "def information(attribute,att_values,data_n):\n",
    "    p = len(data_n.where(data_n['Answer']=='yes').dropna())\n",
    "    n = len(data_n.where(data_n['Answer']=='no').dropna())\n",
    "    i=0\n",
    "    for x in att_values:\n",
    "        p_val = len(data_n.where((data_n[attribute]==x) & (data_n['Answer']=='yes')).dropna())\n",
    "        n_val = len(data_n.where((data_n[attribute]==x) & (data_n['Answer']=='no')).dropna())\n",
    "        i += ((p_val+n_val)/(p+n))*(entropy(data_n.where(data_n[attribute]==x).dropna()))\n",
    "    return i"
   ]
  },
  {
   "cell_type": "code",
   "execution_count": 270,
   "metadata": {
    "scrolled": true
   },
   "outputs": [],
   "source": [
    "class Node:\n",
    "    def __init__(self,attribute):\n",
    "        self.attribute=attribute\n",
    "        self.children=[]\n",
    "        self.answer = {}"
   ]
  },
  {
   "cell_type": "code",
   "execution_count": 271,
   "metadata": {},
   "outputs": [
    {
     "name": "stdout",
     "output_type": "stream",
     "text": [
      "['NG', 'NG', 'NG']\n"
     ]
    }
   ],
   "source": [
    "NG = ['NG','NG','NG']\n",
    "root = Node(NG)\n",
    "print(root.attribute)"
   ]
  },
  {
   "cell_type": "code",
   "execution_count": 272,
   "metadata": {},
   "outputs": [],
   "source": [
    "def Compute_tree(df,root):\n",
    "    if(len(set(df[df.columns.tolist()[-1]])) == 1):\n",
    "        return set(df[df.columns.tolist()[-1]])\n",
    "    e = entropy(df)\n",
    "    attributes = attr_list(df)\n",
    "    values = attr_values(attributes,df)\n",
    "    gain_of_attr = {}\n",
    "    gain = 0\n",
    "    best_attr = attributes[0]\n",
    "    for a in attributes:\n",
    "        gain_of_attr[a] = e - information(a,values[a],df)\n",
    "        gain,best_attr = (gain_of_attr[a],a) if(gain_of_attr[a] > gain) else (gain,best_attr)\n",
    "    node = Node(best_attr)\n",
    "    node.children = values[best_attr]\n",
    "    for x in node.children:\n",
    "        node.answer[x]=Compute_tree(df.where(df[best_attr]==x).dropna(),root)\n",
    "    return node\n",
    "r=Compute_tree(data,root)\n",
    "    \n",
    "        \n",
    "    \n",
    "        "
   ]
  },
  {
   "cell_type": "code",
   "execution_count": 273,
   "metadata": {},
   "outputs": [
    {
     "name": "stdout",
     "output_type": "stream",
     "text": [
      "           Outlook\n",
      "sunny     overcast {'yes'}   rain     "
     ]
    }
   ],
   "source": [
    "#print(r.attribute,r.children,r.answer['sunny'].attribute)\n",
    "print((\" \")*(len(r.children[0])+5),r.attribute)\n",
    "for c in r.children:\n",
    "    if(r.answer[c]=={'yes'} or r.answer[c]=={'no'}):\n",
    "        print(c,r.answer[c],end=\"   \")\n",
    "    else:\n",
    "        print(c,end=\"     \")"
   ]
  },
  {
   "cell_type": "code",
   "execution_count": 250,
   "metadata": {},
   "outputs": [],
   "source": [
    "def Display_tree(node,lable):\n",
    "    if(node=={'yes'} or node=={'no'}):\n",
    "        return\n",
    "    print((\" \")*(24),\"\",str(node.attribute).upper(),\"(\",lable,\")\")\n",
    "    print(\"Brnches of :\",node.attribute,\"\\n\")\n",
    "    for c in node.children:\n",
    "        if(node.answer[c]!={'yes'} and node.answer[c]!={'no'}):\n",
    "            print(c,end=\"\\n\")\n",
    "        else:\n",
    "            print(c,\"\\n\",node.answer[c],end=\"\\n\")\n",
    "        print()\n",
    "    for c in node.children:\n",
    "        if(node.answer[c]!={'yes'} and node.answer[c]!={'no'}):\n",
    "                Display_tree(node.answer[c],\"child of \"+str(node.attribute).upper()+\" through the branch : \"+c)  \n",
    "    "
   ]
  },
  {
   "cell_type": "code",
   "execution_count": 251,
   "metadata": {},
   "outputs": [
    {
     "name": "stdout",
     "output_type": "stream",
     "text": [
      "                          OUTLOOK ( root )\n",
      "Brnches of : Outlook \n",
      "\n",
      "sunny\n",
      "\n",
      "overcast \n",
      " {'yes'}\n",
      "\n",
      "rain\n",
      "\n",
      "                          HUMIDITY ( child of OUTLOOK through the branch : sunny )\n",
      "Brnches of : Humidity \n",
      "\n",
      "high \n",
      " {'no'}\n",
      "\n",
      "normal \n",
      " {'yes'}\n",
      "\n",
      "                          WIND ( child of OUTLOOK through the branch : rain )\n",
      "Brnches of : Wind \n",
      "\n",
      "weak \n",
      " {'yes'}\n",
      "\n",
      "strong \n",
      " {'no'}\n",
      "\n"
     ]
    }
   ],
   "source": [
    "Display_tree(r,\"root\")"
   ]
  }
 ],
 "metadata": {
  "kernelspec": {
   "display_name": "Python 3",
   "language": "python",
   "name": "python3"
  },
  "language_info": {
   "codemirror_mode": {
    "name": "ipython",
    "version": 3
   },
   "file_extension": ".py",
   "mimetype": "text/x-python",
   "name": "python",
   "nbconvert_exporter": "python",
   "pygments_lexer": "ipython3",
   "version": "3.7.6"
  }
 },
 "nbformat": 4,
 "nbformat_minor": 4
}
